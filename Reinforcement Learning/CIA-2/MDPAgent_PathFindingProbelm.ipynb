{
 "cells": [
  {
   "cell_type": "code",
   "execution_count": 3,
   "id": "23ffa580",
   "metadata": {},
   "outputs": [],
   "source": [
    "import numpy as np\n",
    "import random\n",
    "import matplotlib.pyplot as plt"
   ]
  },
  {
   "cell_type": "code",
   "execution_count": 4,
   "id": "ebef2f85",
   "metadata": {},
   "outputs": [],
   "source": [
    "class GridEnvironment:\n",
    "    def __init__(self, size=20, obstacle_prob=0.2, start=(0, 0), goal=(19, 19)):\n",
    "        self.size = size\n",
    "        self.start = start\n",
    "        self.goal = goal\n",
    "        self.grid = np.zeros((size, size))\n",
    "        for i in range(size):\n",
    "            for j in range(size):\n",
    "                if (i, j) != start and (i, j) != goal and random.random() < obstacle_prob:\n",
    "                    self.grid[i][j] = -1\n",
    "        self.actions = [(0, 1), (0, -1), (1, 0), (-1, 0)]\n",
    "        self.rewards = np.full((size, size), -0.1)\n",
    "        self.rewards[goal] = 10\n",
    "\n",
    "    def is_valid(self, pos):\n",
    "        x, y = pos\n",
    "        return 0 <= x < self.size and 0 <= y < self.size and self.grid[x][y] != -1"
   ]
  },
  {
   "cell_type": "code",
   "execution_count": 5,
   "id": "c90935d6",
   "metadata": {},
   "outputs": [],
   "source": [
    "class ValueIterationAgent:\n",
    "    def __init__(self, env, gamma=0.9, threshold=1e-3):\n",
    "        self.env = env\n",
    "        self.gamma = gamma\n",
    "        self.threshold = threshold\n",
    "        self.values = np.zeros((env.size, env.size))\n",
    "        self.policy = np.zeros((env.size, env.size, len(env.actions)))\n",
    "\n",
    "    def run(self):\n",
    "        while True:\n",
    "            delta = 0\n",
    "            new_values = np.copy(self.values)\n",
    "            for i in range(self.env.size):\n",
    "                for j in range(self.env.size):\n",
    "                    if (i, j) == self.env.goal or self.env.grid[i][j] == -1:\n",
    "                        continue\n",
    "                    q_values = []\n",
    "                    for a, (dx, dy) in enumerate(self.env.actions):\n",
    "                        new_pos = (i + dx, j + dy)\n",
    "                        if not self.env.is_valid(new_pos):\n",
    "                            new_pos = (i, j)\n",
    "                        q_values.append(self.env.rewards[i][j] + self.gamma * self.values[new_pos])\n",
    "                    new_values[i][j] = max(q_values)\n",
    "                    delta = max(delta, abs(new_values[i][j] - self.values[i][j]))\n",
    "            self.values = new_values\n",
    "            if delta < self.threshold:\n",
    "                break\n",
    "        self.update_policy()\n",
    "\n",
    "    def update_policy(self):\n",
    "        for i in range(self.env.size):\n",
    "            for j in range(self.env.size):\n",
    "                if (i, j) == self.env.goal or self.env.grid[i][j] == -1:\n",
    "                    continue\n",
    "                best_action = np.argmax([\n",
    "                    self.env.rewards[i][j] + self.gamma * self.values[min(max(i + dx, 0), self.env.size - 1), min(max(j + dy, 0), self.env.size - 1)]\n",
    "                    for dx, dy in self.env.actions\n",
    "                ])\n",
    "                self.policy[i][j] = np.eye(len(self.env.actions))[best_action]"
   ]
  },
  {
   "cell_type": "code",
   "execution_count": 6,
   "id": "be7e6d7d",
   "metadata": {},
   "outputs": [],
   "source": [
    "class QLearningAgent:\n",
    "    def __init__(self, env, alpha=0.1, gamma=0.9, epsilon=0.1, episodes=1000):\n",
    "        self.env = env\n",
    "        self.alpha = alpha\n",
    "        self.gamma = gamma\n",
    "        self.epsilon = epsilon\n",
    "        self.q_table = np.zeros((env.size, env.size, len(env.actions)))\n",
    "        self.episodes = episodes\n",
    "\n",
    "    def choose_action(self, state):\n",
    "        if random.random() < self.epsilon:\n",
    "            return random.choice(range(len(self.env.actions)))\n",
    "        else:\n",
    "            return np.argmax(self.q_table[state])\n",
    "\n",
    "    def train(self):\n",
    "        for _ in range(self.episodes):\n",
    "            state = self.env.start\n",
    "            while state != self.env.goal:\n",
    "                action = self.choose_action(state)\n",
    "                dx, dy = self.env.actions[action]\n",
    "                new_state = (state[0] + dx, state[1] + dy)\n",
    "                if not self.env.is_valid(new_state):\n",
    "                    new_state = state\n",
    "                reward = self.env.rewards[state]\n",
    "                self.q_table[state][action] = (1 - self.alpha) * self.q_table[state][action] + self.alpha * (reward + self.gamma * np.max(self.q_table[new_state]))\n",
    "                state = new_state"
   ]
  },
  {
   "cell_type": "code",
   "execution_count": 7,
   "id": "4f50e3ac",
   "metadata": {},
   "outputs": [],
   "source": [
    "def visualize_grid(env, agent_values=None, title=\"Environment\"):\n",
    "    plt.figure(figsize=(10, 10))\n",
    "    grid = np.zeros((env.size, env.size, 3))\n",
    "    for i in range(env.size):\n",
    "        for j in range(env.size):\n",
    "            if env.grid[i][j] == -1:\n",
    "                grid[i, j] = [0, 0, 0]  # Black for obstacles\n",
    "            elif (i, j) == env.start:\n",
    "                grid[i, j] = [0, 1, 0]  # Green for start\n",
    "            elif (i, j) == env.goal:\n",
    "                grid[i, j] = [1, 0, 0]  # Red for goal\n",
    "            else:\n",
    "                value = agent_values[i, j] if agent_values is not None else 0\n",
    "                grid[i, j] = [value, value, value]\n",
    "    plt.imshow(grid)\n",
    "    plt.title(title)\n",
    "    plt.axis('off')\n",
    "    plt.show()"
   ]
  },
  {
   "cell_type": "code",
   "execution_count": 8,
   "id": "eaed9d7e",
   "metadata": {},
   "outputs": [],
   "source": [
    "# Initialize environment and agents\n",
    "env = GridEnvironment(size=20)\n",
    "vi_agent = ValueIterationAgent(env)\n",
    "q_agent = QLearningAgent(env)"
   ]
  },
  {
   "cell_type": "code",
   "execution_count": 9,
   "id": "23503c8e",
   "metadata": {},
   "outputs": [
    {
     "name": "stderr",
     "output_type": "stream",
     "text": [
      "Clipping input data to the valid range for imshow with RGB data ([0..1] for floats or [0..255] for integers).\n"
     ]
    },
    {
     "data": {
      "image/png": "[encoded data removed]",
      "text/plain": [
       "<Figure size 1000x1000 with 1 Axes>"
      ]
     },
     "metadata": {},
     "output_type": "display_data"
    }
   ],
   "source": [
    "# Run Value Iteration\n",
    "vi_agent.run()\n",
    "visualize_grid(env, agent_values=vi_agent.values, title=\"Value Iteration Values\")"
   ]
  },
  {
   "cell_type": "code",
   "execution_count": 10,
   "id": "0939c2c8",
   "metadata": {},
   "outputs": [
    {
     "name": "stderr",
     "output_type": "stream",
     "text": [
      "Clipping input data to the valid range for imshow with RGB data ([0..1] for floats or [0..255] for integers).\n"
     ]
    },
    {
     "data": {
      "image/png": "[encoded data removed]",
      "text/plain": [
       "<Figure size 1000x1000 with 1 Axes>"
      ]
     },
     "metadata": {},
     "output_type": "display_data"
    }
   ],
   "source": [
    "# Train Q-Learning Agent\n",
    "q_agent.train()\n",
    "visualize_grid(env, agent_values=np.max(q_agent.q_table, axis=2), title=\"Q-Learning Q-Values\")"
   ]
  },
  {
   "cell_type": "code",
   "execution_count": 11,
   "id": "b206efab",
   "metadata": {},
   "outputs": [
    {
     "name": "stdout",
     "output_type": "stream",
     "text": [
      "Value Iteration Optimal Policy:\n",
      " [[[0. 0. 1. 0.]\n",
      "  [1. 0. 0. 0.]\n",
      "  [1. 0. 0. 0.]\n",
      "  ...\n",
      "  [0. 0. 1. 0.]\n",
      "  [0. 1. 0. 0.]\n",
      "  [0. 1. 0. 0.]]\n",
      "\n",
      " [[0. 0. 0. 0.]\n",
      "  [0. 1. 0. 0.]\n",
      "  [1. 0. 0. 0.]\n",
      "  ...\n",
      "  [0. 0. 1. 0.]\n",
      "  [0. 1. 0. 0.]\n",
      "  [0. 1. 0. 0.]]\n",
      "\n",
      " [[0. 0. 0. 1.]\n",
      "  [0. 0. 1. 0.]\n",
      "  [1. 0. 0. 0.]\n",
      "  ...\n",
      "  [0. 1. 0. 0.]\n",
      "  [0. 1. 0. 0.]\n",
      "  [0. 1. 0. 0.]]\n",
      "\n",
      " ...\n",
      "\n",
      " [[0. 0. 0. 0.]\n",
      "  [0. 1. 0. 0.]\n",
      "  [0. 0. 0. 1.]\n",
      "  ...\n",
      "  [1. 0. 0. 0.]\n",
      "  [0. 0. 0. 0.]\n",
      "  [0. 1. 0. 0.]]\n",
      "\n",
      " [[0. 0. 0. 1.]\n",
      "  [1. 0. 0. 0.]\n",
      "  [1. 0. 0. 0.]\n",
      "  ...\n",
      "  [1. 0. 0. 0.]\n",
      "  [0. 0. 0. 1.]\n",
      "  [0. 0. 1. 0.]]\n",
      "\n",
      " [[1. 0. 0. 0.]\n",
      "  [1. 0. 0. 0.]\n",
      "  [1. 0. 0. 0.]\n",
      "  ...\n",
      "  [0. 1. 0. 0.]\n",
      "  [1. 0. 0. 0.]\n",
      "  [0. 0. 0. 0.]]]\n",
      "Q-Learning Optimal Q-Table:\n",
      " [[[-0.94981258 -0.94990695 -0.94998522 -0.95022628]\n",
      "  [-0.94479592 -0.94612734 -0.9447499  -0.94495212]\n",
      "  [-0.94031855 -0.94024637 -0.94024263 -0.94066608]\n",
      "  ...\n",
      "  [-0.85345887 -0.85269427 -0.85336947 -0.85289948]\n",
      "  [-0.85138726 -0.85157838 -0.85151707 -0.85119529]\n",
      "  [-0.85061831 -0.85077098 -0.85017009 -0.85003389]]\n",
      "\n",
      " [[ 0.          0.          0.          0.        ]\n",
      "  [-0.93968183 -0.93994702 -0.93951107 -0.93954592]\n",
      "  [-0.93503757 -0.93504167 -0.93532322 -0.93544776]\n",
      "  ...\n",
      "  [-0.85149365 -0.8524013  -0.85202041 -0.85104769]\n",
      "  [-0.84982979 -0.85046672 -0.84916965 -0.85028068]\n",
      "  [-0.84796705 -0.84940111 -0.84860597 -0.84905003]]\n",
      "\n",
      " [[-0.93089506 -0.93085884 -0.93009295 -0.93050086]\n",
      "  [-0.93459657 -0.93447267 -0.93444914 -0.9345022 ]\n",
      "  [-0.9303648  -0.93074388 -0.93042179 -0.93038647]\n",
      "  ...\n",
      "  [-0.84739724 -0.84676867 -0.8473215  -0.84690655]\n",
      "  [-0.84692779 -0.84837558 -0.84737252 -0.84738503]\n",
      "  [-0.84792888 -0.84789712 -0.84713062 -0.84656563]]\n",
      "\n",
      " ...\n",
      "\n",
      " [[ 0.          0.          0.          0.        ]\n",
      "  [-0.84427357 -0.84422993 -0.84317987 -0.84529452]\n",
      "  [-0.84090937 -0.84147601 -0.84099237 -0.84040854]\n",
      "  ...\n",
      "  [-0.38110951 -0.4135039  -0.34389999 -0.41077231]\n",
      "  [ 0.          0.          0.          0.        ]\n",
      "  [-0.25989392 -0.2502511  -0.19       -0.28243032]]\n",
      "\n",
      " [[-0.83821503 -0.83739326 -0.83817256 -0.83715643]\n",
      "  [-0.83926901 -0.83909028 -0.83863859 -0.83865705]\n",
      "  [-0.83724754 -0.83823735 -0.83771097 -0.83673982]\n",
      "  ...\n",
      "  [-0.271      -0.38472843 -0.271      -0.38317816]\n",
      "  [-0.19       -0.28441961 -0.19       -0.21099613]\n",
      "  [-0.18046681 -0.24758918 -0.1        -0.25323835]]\n",
      "\n",
      " [[-0.83752096 -0.83637626 -0.83758266 -0.83689661]\n",
      "  [-0.83498302 -0.8359229  -0.83508964 -0.83654333]\n",
      "  [-0.83119847 -0.830727   -0.83185696 -0.83241587]\n",
      "  ...\n",
      "  [-0.19       -0.21145981 -0.22333055 -0.28048189]\n",
      "  [-0.1        -0.19109565 -0.14426414 -0.21944713]\n",
      "  [ 0.          0.          0.          0.        ]]]\n"
     ]
    }
   ],
   "source": [
    "# Show both policies (Value Iteration & Q-Learning)\n",
    "print(\"Value Iteration Optimal Policy:\\n\", vi_agent.policy)\n",
    "print(\"Q-Learning Optimal Q-Table:\\n\", q_agent.q_table)"
   ]
  },
  {
   "cell_type": "code",
   "execution_count": null,
   "id": "eed21809",
   "metadata": {},
   "outputs": [],
   "source": []
  }
 ],
 "metadata": {
  "kernelspec": {
   "display_name": "Python 3 (ipykernel)",
   "language": "python",
   "name": "python3"
  },
  "language_info": {
   "codemirror_mode": {
    "name": "ipython",
    "version": 3
   },
   "file_extension": ".py",
   "mimetype": "text/x-python",
   "name": "python",
   "nbconvert_exporter": "python",
   "pygments_lexer": "ipython3",
   "version": "3.9.13"
  }
 },
 "nbformat": 4,
 "nbformat_minor": 5
}
